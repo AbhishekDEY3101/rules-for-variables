{
 "cells": [
  {
   "cell_type": "markdown",
   "id": "c3081a39",
   "metadata": {},
   "source": [
    "### SPACE IS NOT ALLOWED"
   ]
  },
  {
   "cell_type": "markdown",
   "id": "e7bed6cc",
   "metadata": {},
   "source": [
    "### NO SPECIAL CHAR EXCEPT UNDER_SCORE IS ALLOWED"
   ]
  },
  {
   "cell_type": "markdown",
   "id": "914e3a54",
   "metadata": {},
   "source": [
    "### NO DIGITS ARE ALLOWED IN THE BEGINING OF THE VARIABLE, ANYWHERE ELSE IT IS ALLOWED"
   ]
  },
  {
   "cell_type": "code",
   "execution_count": 1,
   "id": "b15da993",
   "metadata": {},
   "outputs": [
    {
     "data": {
      "text/plain": [
       "('abhinav', 'abhishek')"
      ]
     },
     "execution_count": 1,
     "metadata": {},
     "output_type": "execute_result"
    }
   ],
   "source": [
    "names= \"abhinav\",\"abhishek\"\n",
    "names"
   ]
  },
  {
   "cell_type": "code",
   "execution_count": 2,
   "id": "ae08c460",
   "metadata": {},
   "outputs": [
    {
     "data": {
      "text/plain": [
       "('abhishek', 'abhinav')"
      ]
     },
     "execution_count": 2,
     "metadata": {},
     "output_type": "execute_result"
    }
   ],
   "source": [
    "names4= \"abhishek\", \"abhinav\"\n",
    "names4"
   ]
  },
  {
   "cell_type": "code",
   "execution_count": 6,
   "id": "bbceb7a9",
   "metadata": {},
   "outputs": [
    {
     "data": {
      "text/plain": [
       "('abhishek', 'abhinav')"
      ]
     },
     "execution_count": 6,
     "metadata": {},
     "output_type": "execute_result"
    }
   ],
   "source": [
    "names_2= \"abhishek\",\"abhinav\"\n",
    "names_2"
   ]
  },
  {
   "cell_type": "code",
   "execution_count": null,
   "id": "47cc362f",
   "metadata": {},
   "outputs": [],
   "source": []
  }
 ],
 "metadata": {
  "kernelspec": {
   "display_name": "Python 3 (ipykernel)",
   "language": "python",
   "name": "python3"
  },
  "language_info": {
   "codemirror_mode": {
    "name": "ipython",
    "version": 3
   },
   "file_extension": ".py",
   "mimetype": "text/x-python",
   "name": "python",
   "nbconvert_exporter": "python",
   "pygments_lexer": "ipython3",
   "version": "3.9.12"
  }
 },
 "nbformat": 4,
 "nbformat_minor": 5
}
